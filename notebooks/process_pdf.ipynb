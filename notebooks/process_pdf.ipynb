{
 "cells": [
  {
   "cell_type": "code",
   "execution_count": 1,
   "metadata": {},
   "outputs": [],
   "source": [
    "import fitz\n",
    "import PyPDF2\n",
    " \n",
    "def extract_page_as_image(doc, page_number, output_path):\n",
    "    page = doc.load_page(page_number)\n",
    "    pix = page.get_pixmap()\n",
    "    pix.save(output_path)"
   ]
  },
  {
   "cell_type": "code",
   "execution_count": 2,
   "metadata": {},
   "outputs": [],
   "source": [
    "num_pages = len(PyPDF2.PdfReader(\"../test_1_2.pdf\").pages)"
   ]
  },
  {
   "cell_type": "code",
   "execution_count": 4,
   "metadata": {},
   "outputs": [],
   "source": [
    "doc = fitz.open(\"../test_1_2.pdf\")\n",
    "for i in range(num_pages):\n",
    "    extract_page_as_image(doc, i, f\"D:\\\\Files\\\\Projects\\\\Engineering Drawing Object Detection\\\\DocScan-Research\\\\data\\\\images\\\\image_page{i + 1}.png\")"
   ]
  },
  {
   "cell_type": "code",
   "execution_count": null,
   "metadata": {},
   "outputs": [],
   "source": []
  }
 ],
 "metadata": {
  "kernelspec": {
   "display_name": "venv",
   "language": "python",
   "name": "python3"
  },
  "language_info": {
   "codemirror_mode": {
    "name": "ipython",
    "version": 3
   },
   "file_extension": ".py",
   "mimetype": "text/x-python",
   "name": "python",
   "nbconvert_exporter": "python",
   "pygments_lexer": "ipython3",
   "version": "3.11.6"
  }
 },
 "nbformat": 4,
 "nbformat_minor": 2
}
