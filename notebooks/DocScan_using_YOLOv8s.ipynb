{
  "cells": [
    {
      "cell_type": "code",
      "execution_count": 1,
      "metadata": {
        "id": "ZmzTpXkdS2B6"
      },
      "outputs": [],
      "source": [
        "import os\n",
        "import shutil\n",
        "import random\n",
        "from ultralytics import YOLO"
      ]
    },
    {
      "cell_type": "code",
      "execution_count": 2,
      "metadata": {
        "colab": {
          "base_uri": "https://localhost:8080/"
        },
        "id": "klTzuF2pTFRV",
        "outputId": "3fc19e55-0cfe-4505-e522-c95388aec4e1"
      },
      "outputs": [
        {
          "data": {
            "text/plain": [
              "36"
            ]
          },
          "execution_count": 2,
          "metadata": {},
          "output_type": "execute_result"
        }
      ],
      "source": [
        "file_list = os.listdir(\"../data/data/images/train\")\n",
        "\n",
        "len(file_list)"
      ]
    },
    {
      "cell_type": "code",
      "execution_count": 3,
      "metadata": {
        "id": "TvA7Hk-oYLHD"
      },
      "outputs": [],
      "source": [
        "model = YOLO(\"../runs/train/expv8/weights/best.pt\")"
      ]
    },
    {
      "cell_type": "code",
      "execution_count": 5,
      "metadata": {},
      "outputs": [
        {
          "name": "stdout",
          "output_type": "stream",
          "text": [
            "\n",
            "image 1/1 d:\\Files\\Projects\\Engineering Drawing Object Detection\\DocScan-Research\\notebooks\\..\\data\\data\\images\\val\\0b022564-image_page42.png: 512x640 1 bar-scale, 1 color-stamp, 1 detail-labels, 1 north-sign, 218.8ms\n",
            "Speed: 4.8ms preprocess, 218.8ms inference, 0.0ms postprocess per image at shape (1, 3, 512, 640)\n"
          ]
        }
      ],
      "source": [
        "results = model(source=\"../data/data/images/val/0b022564-image_page42.png\")"
      ]
    },
    {
      "cell_type": "code",
      "execution_count": 14,
      "metadata": {},
      "outputs": [],
      "source": [
        "results[0].show()"
      ]
    },
    {
      "cell_type": "code",
      "execution_count": null,
      "metadata": {},
      "outputs": [],
      "source": []
    }
  ],
  "metadata": {
    "accelerator": "GPU",
    "colab": {
      "provenance": []
    },
    "kernelspec": {
      "display_name": "Python 3",
      "name": "python3"
    },
    "language_info": {
      "codemirror_mode": {
        "name": "ipython",
        "version": 3
      },
      "file_extension": ".py",
      "mimetype": "text/x-python",
      "name": "python",
      "nbconvert_exporter": "python",
      "pygments_lexer": "ipython3",
      "version": "3.11.6"
    }
  },
  "nbformat": 4,
  "nbformat_minor": 0
}
