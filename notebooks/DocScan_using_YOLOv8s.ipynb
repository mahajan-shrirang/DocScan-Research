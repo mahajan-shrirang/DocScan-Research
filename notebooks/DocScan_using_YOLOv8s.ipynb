{
  "cells": [
    {
      "cell_type": "code",
      "execution_count": 1,
      "metadata": {
        "id": "ZmzTpXkdS2B6"
      },
      "outputs": [],
      "source": [
        "import os\n",
        "import shutil\n",
        "import random\n",
        "from ultralytics import YOLO"
      ]
    },
    {
      "cell_type": "code",
      "execution_count": 2,
      "metadata": {
        "colab": {
          "base_uri": "https://localhost:8080/"
        },
        "id": "klTzuF2pTFRV",
        "outputId": "3fc19e55-0cfe-4505-e522-c95388aec4e1"
      },
      "outputs": [
        {
          "data": {
            "text/plain": [
              "36"
            ]
          },
          "execution_count": 2,
          "metadata": {},
          "output_type": "execute_result"
        }
      ],
      "source": [
        "file_list = os.listdir(\"../data/data/images/train\")\n",
        "\n",
        "len(file_list)"
      ]
    },
    {
      "cell_type": "code",
      "execution_count": 2,
      "metadata": {
        "id": "TvA7Hk-oYLHD"
      },
      "outputs": [],
      "source": [
        "model = YOLO(\"../runs/train/expv8/weights/best.pt\")"
      ]
    },
    {
      "cell_type": "code",
      "execution_count": 37,
      "metadata": {},
      "outputs": [
        {
          "name": "stdout",
          "output_type": "stream",
          "text": [
            "\n",
            "image 1/1 d:\\Files\\Projects\\Engineering Drawing Object Detection\\DocScan-Research\\notebooks\\..\\data\\images\\val\\02430b96-output_folder47.png: 512x640 2 bar-scales, 1 color-stamp, 3 detail-labelss, 1 north-sign, 243.7ms\n",
            "Speed: 3.0ms preprocess, 243.7ms inference, 1.0ms postprocess per image at shape (1, 3, 512, 640)\n"
          ]
        }
      ],
      "source": [
        "results = model(source=\"../data/images/val/02430b96-output_folder47.png\")"
      ]
    },
    {
      "cell_type": "code",
      "execution_count": 7,
      "metadata": {},
      "outputs": [],
      "source": [
        "results[0].show()"
      ]
    },
    {
      "cell_type": "code",
      "execution_count": null,
      "metadata": {},
      "outputs": [],
      "source": []
    }
  ],
  "metadata": {
    "accelerator": "GPU",
    "colab": {
      "provenance": []
    },
    "kernelspec": {
      "display_name": "Python 3",
      "name": "python3"
    },
    "language_info": {
      "codemirror_mode": {
        "name": "ipython",
        "version": 3
      },
      "file_extension": ".py",
      "mimetype": "text/x-python",
      "name": "python",
      "nbconvert_exporter": "python",
      "pygments_lexer": "ipython3",
      "version": "3.11.6"
    }
  },
  "nbformat": 4,
  "nbformat_minor": 0
}
